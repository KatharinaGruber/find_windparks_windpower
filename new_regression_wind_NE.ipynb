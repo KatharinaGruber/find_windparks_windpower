{
 "cells": [
  {
   "cell_type": "code",
   "execution_count": 24,
   "metadata": {},
   "outputs": [],
   "source": [
    "from sklearn.linear_model import LinearRegression\n",
    "from scipy.optimize import nnls\n",
    "\n",
    "\n",
    "import xarray as xr\n",
    "import pandas as pd\n",
    "import numpy as np\n",
    "import datetime\n",
    "import matplotlib.pyplot as plt\n",
    "import matplotlib as mpl\n",
    "from scipy.interpolate import interp1d\n",
    "import glob"
   ]
  },
  {
   "cell_type": "code",
   "execution_count": 2,
   "metadata": {},
   "outputs": [],
   "source": [
    "wind_path = '/data/users/kgruber/Data/era5/BRA/eff_ws'\n",
    "dpath = '/data/users/kgruber/other-data/BRA'\n",
    "base_path = '/data/users/kgruber/other-data/BRA_turbine_locations'\n",
    "results_path = '/data/users/kgruber/results/BRA_turbine_locations'"
   ]
  },
  {
   "cell_type": "code",
   "execution_count": 8,
   "metadata": {},
   "outputs": [],
   "source": [
    "wind = xr.open_mfdataset(wind_path + '/era5_wind_BRA_*.nc',chunks={'time':30})"
   ]
  },
  {
   "cell_type": "code",
   "execution_count": 4,
   "metadata": {},
   "outputs": [],
   "source": [
    "wp_twp = pd.read_csv(dpath + '/windparks_TWP.csv',header=0,index_col = 0)"
   ]
  },
  {
   "cell_type": "code",
   "execution_count": 5,
   "metadata": {},
   "outputs": [],
   "source": [
    "states_NE = ['Paraíba','Rio Grande do Norte','Bahia','Ceará','Sergipe','Pernambuco','Piaui','Maranhão']"
   ]
  },
  {
   "cell_type": "code",
   "execution_count": 6,
   "metadata": {},
   "outputs": [],
   "source": [
    "lons = wp_twp.long[[s in states_NE for s in wp_twp.state.values]]\n",
    "lats = wp_twp.lat[[s in states_NE for s in wp_twp.state.values]]\n",
    "wpyears = wp_twp.year[[s in states_NE for s in wp_twp.state.values]]\n",
    "wpcap = wp_twp.cap[[s in states_NE for s in wp_twp.state.values]]"
   ]
  },
  {
   "cell_type": "code",
   "execution_count": 9,
   "metadata": {},
   "outputs": [],
   "source": [
    "wind_NE = wind.sel(latitude=slice(-1,-17),longitude=slice(-45,-34))"
   ]
  },
  {
   "cell_type": "code",
   "execution_count": 10,
   "metadata": {},
   "outputs": [],
   "source": [
    "gen_NE_csv = pd.read_csv(base_path + '/hourly_generation_NE.csv',\n",
    "                         sep=';',index_col=0,usecols=[0,7],\n",
    "                         parse_dates=True,dayfirst=True).rename(columns={'Selecione Tipo de GE Simp 4':'gen'})[1:]\n",
    "# remove duplicate time stamps\n",
    "gen_NE_csv = gen_NE_csv.loc[~gen_NE_csv.index.duplicated(keep='first')]\n",
    "\n",
    "\n",
    "# data are not in right order and some lines are missing... therefore sort and interpolate missing values\n",
    "#gen_NE_csvs = gen_NE_csv.sort_index()\n",
    "# insert in full time series and fill in missing data\n",
    "dr = pd.date_range(start=gen_NE_csv.index.min(),end=gen_NE_csv.index.max(),freq='H')\n",
    "gen_NE = pd.DataFrame({'gen':dr.map(gen_NE_csv.gen)},index=dr).interpolate()\n",
    "gen_NExr = gen_NE.to_xarray().rename({'index':'time'})"
   ]
  },
  {
   "cell_type": "code",
   "execution_count": 12,
   "metadata": {},
   "outputs": [],
   "source": [
    "ll = np.array(np.meshgrid(wind_NE.latitude, wind_NE.longitude)).reshape(2, len(wind_NE.latitude)*len(wind_NE.longitude))"
   ]
  },
  {
   "cell_type": "code",
   "execution_count": 13,
   "metadata": {},
   "outputs": [],
   "source": [
    "wi = wind_NE.interp(coords={'latitude':xr.DataArray(ll[0],dims='loc'),\n",
    "                       'longitude':xr.DataArray(ll[1],dims='loc')},method='nearest').drop(['longitude','latitude'])"
   ]
  },
  {
   "cell_type": "markdown",
   "metadata": {},
   "source": [
    "### Analyse matrix rank"
   ]
  },
  {
   "cell_type": "markdown",
   "metadata": {},
   "source": [
    "without specifing tolerance, ranks are quite low and DECREASE with longer time spans"
   ]
  },
  {
   "cell_type": "code",
   "execution_count": 14,
   "metadata": {},
   "outputs": [
    {
     "data": {
      "text/plain": [
       "613"
      ]
     },
     "execution_count": 14,
     "metadata": {},
     "output_type": "execute_result"
    }
   ],
   "source": [
    "np.linalg.matrix_rank(wi.wh100.sel(time='2018'))"
   ]
  },
  {
   "cell_type": "code",
   "execution_count": 15,
   "metadata": {},
   "outputs": [
    {
     "data": {
      "text/plain": [
       "132"
      ]
     },
     "execution_count": 15,
     "metadata": {},
     "output_type": "execute_result"
    }
   ],
   "source": [
    "np.linalg.matrix_rank(wi.wh100.where(~np.isnan(wi.wh100),np.pi).transpose('time','loc').sel(time=slice('2014','2018')))"
   ]
  },
  {
   "cell_type": "code",
   "execution_count": 16,
   "metadata": {},
   "outputs": [
    {
     "data": {
      "text/plain": [
       "46"
      ]
     },
     "execution_count": 16,
     "metadata": {},
     "output_type": "execute_result"
    }
   ],
   "source": [
    "np.linalg.matrix_rank(wi.wh100.where(~np.isnan(wi.wh100),np.pi).transpose('time','loc').sel(time=slice('2008','2018')))"
   ]
  },
  {
   "cell_type": "markdown",
   "metadata": {},
   "source": [
    "if we specify tolerance ranks are the size of the matrix"
   ]
  },
  {
   "cell_type": "code",
   "execution_count": 17,
   "metadata": {},
   "outputs": [
    {
     "data": {
      "text/plain": [
       "2405"
      ]
     },
     "execution_count": 17,
     "metadata": {},
     "output_type": "execute_result"
    }
   ],
   "source": [
    "np.linalg.matrix_rank(wi.wh100.where(~np.isnan(wi.wh100),np.pi).transpose('time','loc').sel(time=slice('2017','2018')),tol=10**-3)"
   ]
  },
  {
   "cell_type": "code",
   "execution_count": 18,
   "metadata": {},
   "outputs": [
    {
     "data": {
      "text/plain": [
       "2405"
      ]
     },
     "execution_count": 18,
     "metadata": {},
     "output_type": "execute_result"
    }
   ],
   "source": [
    "np.linalg.matrix_rank(wi.wh100.where(~np.isnan(wi.wh100),np.pi).transpose('time','loc').sel(time=slice('2014','2018')),tol=10**-3)"
   ]
  },
  {
   "cell_type": "code",
   "execution_count": 19,
   "metadata": {},
   "outputs": [
    {
     "data": {
      "text/plain": [
       "2405"
      ]
     },
     "execution_count": 19,
     "metadata": {},
     "output_type": "execute_result"
    }
   ],
   "source": [
    "np.linalg.matrix_rank(wi.wh100.where(~np.isnan(wi.wh100),np.pi).transpose('time','loc').sel(time=slice('2009','2018')),tol=10**-3)"
   ]
  },
  {
   "cell_type": "markdown",
   "metadata": {},
   "source": [
    "there are NANs in the merra data!!!"
   ]
  },
  {
   "cell_type": "code",
   "execution_count": 20,
   "metadata": {},
   "outputs": [
    {
     "data": {
      "text/plain": [
       "(array([ 1926,  2827,  3136,  3143,  5223,  5231,  5521,  5679,  5679,\n",
       "         6643,  6746,  6814,  6838,  6874,  6894,  6931,  7263,  9095,\n",
       "         9291, 12006, 13423, 13439, 13441, 13781, 13797, 13894, 14515,\n",
       "        14544, 14588, 15191, 20350, 20352, 20422, 21538, 21696, 21772,\n",
       "        21799, 23039, 24339, 24467, 29675, 29750, 29760, 30733, 30751,\n",
       "        30767, 31005, 31038, 31172, 31189, 31209, 31209, 31223, 31296,\n",
       "        31344, 31346, 33682, 33718, 33722, 33814]),\n",
       " array([1237, 1942, 1878, 2401,  717, 2095, 2092,  130,  718, 2159, 1437,\n",
       "        1895, 1108,  980, 1434, 1438, 1237, 2091, 2027, 1749, 1304, 2157,\n",
       "        1241, 1176, 1172, 1111, 1306, 1109, 2092, 2028, 1175, 1046, 2221,\n",
       "        2196,  653, 1962, 1235, 2028, 1832, 1238, 1436, 2398, 2136, 1009,\n",
       "        2075, 2339, 1238, 2125, 1043,  915, 2208, 2269, 1170, 2403, 1635,\n",
       "        1944,  329, 2158, 2030, 1045]))"
      ]
     },
     "execution_count": 20,
     "metadata": {},
     "output_type": "execute_result"
    }
   ],
   "source": [
    "np.where(np.isnan(wi.wh100.transpose('time','loc').sel(time=slice('2014','2018'))))"
   ]
  },
  {
   "cell_type": "code",
   "execution_count": 21,
   "metadata": {},
   "outputs": [
    {
     "name": "stdout",
     "output_type": "stream",
     "text": [
      "0:00:03.284767\n"
     ]
    }
   ],
   "source": [
    "t1 = datetime.datetime.now()\n",
    "res_tol = np.linalg.lstsq(wi.wh100.transpose('time','loc').sel(time='2018'),gen_NExr.gen.sel(time='2018'),rcond=10**-3)\n",
    "t2 = datetime.datetime.now()\n",
    "print(t2-t1)"
   ]
  },
  {
   "cell_type": "code",
   "execution_count": 22,
   "metadata": {},
   "outputs": [],
   "source": [
    "cc_res_tol = xr.DataArray(res_tol[0].reshape(len(wind_NE.latitude),len(wind_NE.longitude)),\n",
    "                          dims=['lat','lon'],\n",
    "                          coords={'lat':wind_NE.latitude.values,'lon':wind_NE.longitude.values})"
   ]
  },
  {
   "cell_type": "code",
   "execution_count": 23,
   "metadata": {},
   "outputs": [
    {
     "data": {
      "text/plain": [
       "<matplotlib.collections.PathCollection at 0x7f0c244cac88>"
      ]
     },
     "execution_count": 23,
     "metadata": {},
     "output_type": "execute_result"
    },
    {
     "data": {
      "image/png": "[encoded data removed]",
      "text/plain": [
       "<Figure size 432x288 with 2 Axes>"
      ]
     },
     "metadata": {
      "needs_background": "light"
     },
     "output_type": "display_data"
    }
   ],
   "source": [
    "year=2018\n",
    "cc_res_tol.transpose('lat','lon').plot()\n",
    "plt.scatter(lons[wpyears<=2018],lats[wpyears<=year],color='black',s=10,alpha=0.5)"
   ]
  },
  {
   "cell_type": "markdown",
   "metadata": {},
   "source": [
    "try nonnegative regression"
   ]
  },
  {
   "cell_type": "code",
   "execution_count": 26,
   "metadata": {},
   "outputs": [],
   "source": [
    "res_nnls = nnls(wi.wh100.transpose('time','loc').sel(time='2018'),gen_NExr.gen.sel(time='2018'))"
   ]
  },
  {
   "cell_type": "code",
   "execution_count": 27,
   "metadata": {},
   "outputs": [],
   "source": [
    "cc_res_nnls = xr.DataArray(res_nnls[0].reshape(len(wind_NE.latitude),len(wind_NE.longitude)),\n",
    "                          dims=['lat','lon'],\n",
    "                          coords={'lat':wind_NE.latitude.values,'lon':wind_NE.longitude.values})"
   ]
  },
  {
   "cell_type": "code",
   "execution_count": 29,
   "metadata": {},
   "outputs": [
    {
     "data": {
      "text/plain": [
       "<matplotlib.collections.PathCollection at 0x7f0c200fe978>"
      ]
     },
     "execution_count": 29,
     "metadata": {},
     "output_type": "execute_result"
    },
    {
     "data": {
      "image/png": "[encoded data removed]",
      "text/plain": [
       "<Figure size 432x288 with 2 Axes>"
      ]
     },
     "metadata": {
      "needs_background": "light"
     },
     "output_type": "display_data"
    }
   ],
   "source": [
    "year=2018\n",
    "cc_res_nnls.transpose('lat','lon').plot(cmap='coolwarm')\n",
    "plt.scatter(lons[wpyears<=2018],lats[wpyears<=year],color='black',s=10,alpha=0.5)"
   ]
  },
  {
   "cell_type": "code",
   "execution_count": null,
   "metadata": {},
   "outputs": [],
   "source": []
  },
  {
   "cell_type": "code",
   "execution_count": null,
   "metadata": {},
   "outputs": [],
   "source": []
  }
 ],
 "metadata": {
  "kernelspec": {
   "display_name": "Python [conda env:.conda-py37]",
   "language": "python",
   "name": "conda-env-.conda-py37-py"
  },
  "language_info": {
   "codemirror_mode": {
    "name": "ipython",
    "version": 3
   },
   "file_extension": ".py",
   "mimetype": "text/x-python",
   "name": "python",
   "nbconvert_exporter": "python",
   "pygments_lexer": "ipython3",
   "version": "3.7.3"
  }
 },
 "nbformat": 4,
 "nbformat_minor": 2
}
